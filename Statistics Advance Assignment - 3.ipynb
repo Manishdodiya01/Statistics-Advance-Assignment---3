{
 "cells": [
  {
   "cell_type": "markdown",
   "id": "57d7ec41-5944-4134-9d3e-b73d2f98a307",
   "metadata": {
    "jp-MarkdownHeadingCollapsed": true,
    "tags": []
   },
   "source": [
    "# Q1: What is Estimation Statistics? Explain point estimate and interval estimate."
   ]
  },
  {
   "cell_type": "markdown",
   "id": "9e72f57c-9d5e-4863-921c-313dfe1b91f4",
   "metadata": {},
   "source": [
    "Estimation statistics is a branch of inferential statistics that deals with the process of estimating population parameters (e.g., mean, proportion, standard deviation) from sample data. It is used when it is impractical or impossible to collect data from an entire population, and instead, a representative sample is taken to make inferences about the population.\n",
    "\n",
    "There are two main types of estimates in estimation statistics: point estimates and interval estimates.\n",
    "\n",
    "1. Point Estimate:\n",
    "A point estimate is a single value that is used to approximate the unknown population parameter. It is obtained directly from the sample data and serves as the best guess for the true value of the parameter. For example, if you want to estimate the average height of students in a school, you might take a sample of students, calculate their average height, and use that value as the point estimate for the average height of all students in the school.\n",
    "\n",
    "However, it's essential to remember that a point estimate is not guaranteed to be exactly equal to the population parameter it is trying to estimate. It provides an estimate with a certain level of uncertainty, which leads us to interval estimates.\n",
    "\n",
    "2. Interval Estimate:\n",
    "An interval estimate provides a range of values within which the true population parameter is likely to lie, along with a confidence level associated with that range. It accounts for the uncertainty in the point estimate and gives a measure of how confident we are about the estimate.\n",
    "\n",
    "Interval estimates are typically represented as a confidence interval, which is defined by two values: a lower bound and an upper bound. The confidence level associated with the interval indicates the probability that the true parameter falls within the interval. Commonly used confidence levels are 90%, 95%, and 99%.\n",
    "\n",
    "For example, if we calculate a 95% confidence interval for the average height of students in a school to be 150 cm to 160 cm, it means that we are 95% confident that the true average height of all students in the school falls within this range.\n",
    "\n",
    "In summary, estimation statistics involves the use of both point estimates and interval estimates to make inferences about population parameters based on sample data, taking into account the uncertainty involved in the estimation process."
   ]
  },
  {
   "cell_type": "markdown",
   "id": "c8b12944-ca86-498b-954e-720b3167357a",
   "metadata": {
    "jp-MarkdownHeadingCollapsed": true,
    "tags": []
   },
   "source": [
    "# Q2. Write a Python function to estimate the population mean using a sample mean and standard deviation."
   ]
  },
  {
   "cell_type": "code",
   "execution_count": 2,
   "id": "1f25d8d5-778f-4b9c-87d3-d969afb317a1",
   "metadata": {},
   "outputs": [
    {
     "name": "stdout",
     "output_type": "stream",
     "text": [
      "The estimated population mean is: 243.37685748071388\n"
     ]
    }
   ],
   "source": [
    "import scipy.stats as stats\n",
    "\n",
    "def e_mean(sample_mean,sample_std,sample_size):\n",
    "    \n",
    "    result = stats.norm.ppf(0.5 + (0.5 * sample_size) / (sample_size + 2.0)) * sample_std + sample_mean\n",
    "    return result\n",
    "\n",
    "sample_mean = 10\n",
    "sample_std = 2\n",
    "sample_size = 100\n",
    "\n",
    "Population_mean = e_mean(sample_mean,sample_size,sample_size)\n",
    "print('The estimated population mean is:' , Population_mean)"
   ]
  },
  {
   "cell_type": "markdown",
   "id": "75c586d1-8750-4842-9fd3-a17c8db3a192",
   "metadata": {
    "jp-MarkdownHeadingCollapsed": true,
    "tags": []
   },
   "source": [
    "# Q3: What is Hypothesis testing? Why is it used? State the importance of Hypothesis testing."
   ]
  },
  {
   "cell_type": "markdown",
   "id": "18e6a458-ee8a-4ce1-890a-9824c649a587",
   "metadata": {},
   "source": [
    "Hypothesis testing is a statistical method used to make inferences about population parameters based on sample data. It involves formulating two competing hypotheses, the null hypothesis (H0) and the alternative hypothesis (H1), and then using sample data to test which hypothesis is more likely to be true.\n",
    "\n",
    "The process of hypothesis testing involves the following steps:\n",
    "\n",
    "1. Formulate Hypotheses:\n",
    "The null hypothesis (H0) is the default assumption that there is no significant effect or relationship in the population. The alternative hypothesis (H1) contradicts the null hypothesis and suggests that there is a significant effect or relationship.\n",
    "\n",
    "2. Collect Data:\n",
    "A sample is collected from the population of interest. The data collected will be used to determine whether the null hypothesis can be rejected or not.\n",
    "\n",
    "3. Choose a Significance Level:\n",
    "The significance level (often denoted as α) is the probability of rejecting the null hypothesis when it is true. Commonly used significance levels are 0.05 (5%) and 0.01 (1%).\n",
    "\n",
    "4. Conduct the Test:\n",
    "A statistical test is chosen based on the nature of the data and the hypotheses being tested. The test generates a test statistic, which is used to calculate the probability of obtaining the observed results if the null hypothesis is true.\n",
    "\n",
    "5. Compare Results:\n",
    "The calculated probability, known as the p-value, is compared with the chosen significance level. If the p-value is less than or equal to the significance level, the null hypothesis is rejected in favor of the alternative hypothesis. Otherwise, there is insufficient evidence to reject the null hypothesis.\n",
    "\n",
    "Importance of Hypothesis Testing:\n",
    "\n",
    "1. Inference to the Population:\n",
    "Hypothesis testing allows us to draw conclusions about population parameters based on sample data. By testing hypotheses, we can make educated guesses about the true state of the population, even when it is not feasible to collect data from the entire population.\n",
    "\n",
    "2. Decision Making:\n",
    "Hypothesis testing provides a structured approach for decision making. It helps researchers, scientists, and decision-makers to determine whether a particular treatment, intervention, or strategy has a significant effect or not.\n",
    "\n",
    "3. Scientific Research:\n",
    "In scientific research, hypothesis testing is a fundamental tool for testing new theories, validating existing knowledge, or exploring new phenomena. It helps researchers evaluate the validity of their hypotheses and draw reliable conclusions.\n",
    "\n",
    "4. Quality Control:\n",
    "In industries and manufacturing processes, hypothesis testing is used to ensure product quality and identify potential issues. By testing hypotheses related to product specifications, companies can maintain consistency and meet quality standards.\n",
    "\n",
    "5. Objectivity and Transparency:\n",
    "Hypothesis testing provides an objective and transparent way of assessing the evidence for or against a particular claim. It allows others to replicate the study and verify the results, promoting scientific rigor and integrity.\n",
    "\n",
    "Overall, hypothesis testing plays a crucial role in the scientific method, allowing us to make evidence-based decisions, draw meaningful conclusions, and advance knowledge in various fields."
   ]
  },
  {
   "cell_type": "markdown",
   "id": "c9cfd8c3-6c96-4b70-8bdf-7f9f76b87c7d",
   "metadata": {
    "jp-MarkdownHeadingCollapsed": true,
    "tags": []
   },
   "source": [
    "# Q4. Create a hypothesis that states whether the average weight of male college students is greater than the average weight of female college students."
   ]
  },
  {
   "cell_type": "code",
   "execution_count": 3,
   "id": "dd3ee1f6-34ca-4619-83b7-a30d67ce0a8a",
   "metadata": {},
   "outputs": [
    {
     "name": "stdout",
     "output_type": "stream",
     "text": [
      "Mean weight of male students: 61.2\n",
      "Mean weight of female students: 58.2\n",
      "t-statistics: 0.76004188790721\n",
      "p-value: 0.23451676427815638\n",
      "Reject null hypothesis\n"
     ]
    }
   ],
   "source": [
    "import numpy as np\n",
    "from scipy.stats import ttest_ind\n",
    "\n",
    "male_weight = np.array([60,55,67,69,55])\n",
    "female_weight = np.array([55,59,50,65,62])\n",
    "\n",
    "mean_m_weight = np.mean(male_weight)\n",
    "mean_f_weight = np.mean(female_weight)\n",
    "\n",
    "t_statistic , p_value = ttest_ind(male_weight,female_weight,alternative='greater')\n",
    "\n",
    "alpha = 0.5\n",
    "\n",
    "print(f\"Mean weight of male students: {mean_m_weight}\")\n",
    "print(f\"Mean weight of female students: {mean_f_weight}\")\n",
    "print(f\"t-statistics: {t_statistic}\")\n",
    "print(f\"p-value: {p_value}\")\n",
    "\n",
    "if p_value < alpha:\n",
    "    print(\"Reject null hypothesis\")\n",
    "else:\n",
    "    print(\"Fail to reject null hypothesis\")"
   ]
  },
  {
   "cell_type": "markdown",
   "id": "34b9643b-37ea-4651-a49b-047f4d881ee0",
   "metadata": {
    "jp-MarkdownHeadingCollapsed": true,
    "tags": []
   },
   "source": [
    "# Q5. Write a Python script to conduct a hypothesis test on the difference between two population means, given a sample from each population.a"
   ]
  },
  {
   "cell_type": "code",
   "execution_count": 2,
   "id": "1ca3c54d-80aa-490b-bd10-84bd500b779d",
   "metadata": {},
   "outputs": [
    {
     "name": "stdout",
     "output_type": "stream",
     "text": [
      "Sample mean of population 1: 30.0\n",
      "Sample mean of population 2: 30.8\n",
      "Sample standard deviation of population 1: 7.9\n",
      "Sample standard deviation of population 2: 7.6\n",
      "t-statistics: -0.16\n",
      "p-value: 0.87\n",
      "Fail to reject null hypothesis\n"
     ]
    }
   ],
   "source": [
    "import numpy as np\n",
    "from scipy.stats import ttest_ind\n",
    "\n",
    "sample_p1 = np.array([20,25,30,35,40])\n",
    "sample_p2 = np.array([21,26,31,36,40])\n",
    "\n",
    "mean_p1 = np.mean(sample_p1)\n",
    "mean_p2 = np.mean(sample_p2)\n",
    "std_p1 = np.std(sample_p1 , ddof=1)\n",
    "std_p2 = np.std(sample_p2 , ddof=1)\n",
    "\n",
    "\n",
    "t_statistic , p_value = ttest_ind(sample_p1 , sample_p2)\n",
    "alpha = 0.5\n",
    "\n",
    "print(f\"Sample mean of population 1: {mean_p1}\")\n",
    "print(f\"Sample mean of population 2: {mean_p2}\")\n",
    "print(f\"Sample standard deviation of population 1: {std_p1:.2}\")\n",
    "print(f\"Sample standard deviation of population 2: {std_p2:.2}\")\n",
    "print(f\"t-statistics: {t_statistic:.2}\")\n",
    "print(f\"p-value: {p_value:.2}\")\n",
    "\n",
    "if p_value < alpha:\n",
    "    print(\"Reject null hypothesis\")\n",
    "else:\n",
    "    print(\"Fail to reject null hypothesis\")"
   ]
  },
  {
   "cell_type": "markdown",
   "id": "6f1def72-54c6-4f41-9d91-5b9243a115ad",
   "metadata": {
    "jp-MarkdownHeadingCollapsed": true,
    "tags": []
   },
   "source": [
    "# Q6: What is a null and alternative hypothesis? Give some examples."
   ]
  },
  {
   "cell_type": "markdown",
   "id": "9f9e8026-dba0-4d55-a844-4eaa9091d137",
   "metadata": {},
   "source": [
    "In hypothesis testing, the null hypothesis (H0) and the alternative hypothesis (H1) are two competing statements about a population parameter that are subjected to statistical testing based on sample data. The purpose is to determine which hypothesis is more likely to be supported by the evidence.\n",
    "\n",
    "1. Null Hypothesis (H0):\n",
    "The null hypothesis is the default assumption or claim that there is no significant effect, relationship, or difference in the population. It represents the status quo or no change scenario. In other words, it asserts that any observed differences or effects in the sample data are due to random chance or sampling variability.\n",
    "\n",
    "Example 1: A drug manufacturer claims that their new headache medicine has no effect on reducing pain duration. The null hypothesis would be:\n",
    "H0: The mean pain duration for patients taking the new headache medicine is equal to the mean pain duration for patients taking a placebo.\n",
    "\n",
    "Example 2: A university administrator believes that the proportion of students who pass a difficult exam is not different from previous years. The null hypothesis would be:\n",
    "H0: The proportion of students who pass the difficult exam this year is equal to the proportion of students who passed it in previous years.\n",
    "\n",
    "2. Alternative Hypothesis (H1):\n",
    "The alternative hypothesis is the statement that contradicts the null hypothesis. It represents what the researcher or analyst wants to investigate or find evidence for. It suggests that there is a significant effect, relationship, or difference in the population.\n",
    "\n",
    "Example 1: Continuing from the previous drug example, the alternative hypothesis would be:\n",
    "H1: The mean pain duration for patients taking the new headache medicine is different from the mean pain duration for patients taking a placebo.\n",
    "\n",
    "Example 2: For the university exam example, the alternative hypothesis would be:\n",
    "H1: The proportion of students who pass the difficult exam this year is greater (or less) than the proportion of students who passed it in previous years.\n",
    "\n",
    "In hypothesis testing, the goal is to evaluate the evidence in the sample data and determine whether there is enough statistical significance to reject the null hypothesis in favor of the alternative hypothesis. The decision to reject or fail to reject the null hypothesis is based on the calculated p-value, which represents the probability of observing the sample data under the assumption that the null hypothesis is true. If the p-value is below the chosen significance level (α), typically 0.05 or 0.01, then the null hypothesis is rejected, suggesting that there is evidence to support the alternative hypothesis. Otherwise, if the p-value is higher than α, the null hypothesis is not rejected, and there is insufficient evidence to support the alternative hypothesis."
   ]
  },
  {
   "cell_type": "markdown",
   "id": "7231631e-3218-4620-8c9d-1d27329194a7",
   "metadata": {
    "jp-MarkdownHeadingCollapsed": true,
    "tags": []
   },
   "source": [
    "# Q7: Write down the steps involved in hypothesis testing."
   ]
  },
  {
   "cell_type": "markdown",
   "id": "10a6b2b9-5801-470a-bc06-9add2959afb8",
   "metadata": {},
   "source": [
    "Hypothesis testing involves a series of steps to make statistical inferences about population parameters based on sample data. Here are the typical steps involved in hypothesis testing:\n",
    "\n",
    "1. State the Null Hypothesis (H0) and Alternative Hypothesis (H1):\n",
    "Define the null hypothesis, which represents the default assumption of no significant effect or difference in the population. State the alternative hypothesis, which contradicts the null hypothesis and represents what you want to investigate or find evidence for.\n",
    "\n",
    "2. Choose the Significance Level (α):\n",
    "Select a significance level (also known as the level of significance or alpha level), typically denoted as α. It determines the probability of rejecting the null hypothesis when it is true. Commonly used significance levels are 0.05 (5%) and 0.01 (1%).\n",
    "\n",
    "3. Select the Test Statistic:\n",
    "Choose an appropriate statistical test based on the nature of the data and the hypotheses being tested. The choice of test statistic depends on factors such as the type of data (continuous, categorical), the number of groups being compared, and the assumptions of the test.\n",
    "\n",
    "4. Collect Sample Data:\n",
    "Collect a representative sample from the population of interest. The sample should be randomly selected and sufficiently large to provide meaningful results.\n",
    "\n",
    "5. Calculate the Test Statistic:\n",
    "Compute the test statistic using the sample data and the chosen statistical test. The test statistic measures how well the sample data supports the null hypothesis.\n",
    "\n",
    "6. Determine the P-value:\n",
    "Based on the test statistic and the chosen statistical distribution, calculate the p-value. The p-value is the probability of obtaining the observed results (or more extreme results) if the null hypothesis is true.\n",
    "\n",
    "7. Compare the P-value with α:\n",
    "Compare the calculated p-value with the chosen significance level (α). If the p-value is less than or equal to α, it means that the observed results are unlikely to have occurred by random chance under the assumption of the null hypothesis. In this case, you reject the null hypothesis in favor of the alternative hypothesis. If the p-value is greater than α, there is insufficient evidence to reject the null hypothesis.\n",
    "\n",
    "8. Draw Conclusions:\n",
    "Based on the comparison of the p-value and α, make conclusions about the null hypothesis. If you reject the null hypothesis, it suggests that there is enough evidence to support the alternative hypothesis. If you fail to reject the null hypothesis, it means there is not enough evidence to support the alternative hypothesis.\n",
    "\n",
    "9. Interpret the Results:\n",
    "Interpret the results in the context of the problem and draw meaningful conclusions about the population based on the sample data and the hypothesis test.\n",
    "\n",
    "10. Report the Findings:\n",
    "Communicate the results of the hypothesis test, including the test statistic, p-value, conclusion, and any relevant insights, in a clear and concise manner.\n",
    "\n",
    "It's important to note that hypothesis testing is a tool for making probabilistic statements about population parameters based on sample data. The conclusions drawn from hypothesis tests are not absolute truths but rather based on the evidence available in the sample."
   ]
  },
  {
   "cell_type": "markdown",
   "id": "ab2d3ebb-7257-48e2-bed7-c1531c4048c0",
   "metadata": {
    "jp-MarkdownHeadingCollapsed": true,
    "tags": []
   },
   "source": [
    "# Q8. Define p-value and explain its significance in hypothesis testing."
   ]
  },
  {
   "cell_type": "markdown",
   "id": "a4dc4861-a759-470a-91e5-583b76c5ac45",
   "metadata": {},
   "source": [
    "The p-value, short for \"probability value,\" is a crucial concept in hypothesis testing. It is a probability that measures the strength of evidence against the null hypothesis (H0) based on the sample data. In other words, the p-value indicates the probability of obtaining the observed results or more extreme results if the null hypothesis is true.\n",
    "\n",
    "When conducting a hypothesis test, the steps include calculating a test statistic (e.g., t-statistic, z-statistic, chi-square statistic) from the sample data and then determining the p-value associated with that test statistic. The p-value quantifies the likelihood of observing the sample data, assuming that the null hypothesis is correct.\n",
    "\n",
    "The significance of the p-value in hypothesis testing is as follows:\n",
    "\n",
    "1. Evaluating the Evidence: \n",
    "A small p-value (usually less than the chosen significance level α) indicates that the observed results are highly unlikely to occur by random chance alone, assuming that the null hypothesis is true. In this case, the data provides strong evidence against the null hypothesis.\n",
    "\n",
    "2. Decision Making:\n",
    "The p-value guides the decision-making process in hypothesis testing. If the p-value is less than or equal to α, you reject the null hypothesis in favor of the alternative hypothesis. This suggests that there is enough evidence to support the alternative hypothesis, and the effect or relationship being investigated is statistically significant.\n",
    "\n",
    "3. Assessing Statistical Significance:\n",
    "A p-value less than α (commonly 0.05 or 0.01) implies that the observed results are statistically significant at the chosen significance level. It suggests that the results are unlikely to have occurred due to random chance, and the effect or difference observed in the sample is likely to exist in the population.\n",
    "\n",
    "4. Failing to Reject the Null Hypothesis:\n",
    "Conversely, if the p-value is greater than α, you fail to reject the null hypothesis. In this case, there is insufficient evidence to support the alternative hypothesis, and any observed differences or effects in the sample data could be attributed to random chance.\n",
    "\n",
    "5. No Absolute Proof:\n",
    "It's important to understand that the p-value does not provide a measure of the probability that either the null hypothesis or the alternative hypothesis is true. It only quantifies the evidence against the null hypothesis based on the sample data. A small p-value does not prove that the null hypothesis is false or that the effect is practically significant, but rather that the evidence is strong enough to reject it.\n",
    "\n",
    "6. Sensitivity to Sample Size:\n",
    "The p-value is sensitive to sample size. Larger sample sizes tend to produce smaller p-values, as the increased data points reduce the uncertainty and provide more precise estimates of the population parameters.\n",
    "\n",
    "In summary, the p-value is a critical component of hypothesis testing as it allows researchers to draw probabilistic conclusions about the null hypothesis based on the observed sample data. It helps in making informed decisions, assessing statistical significance, and understanding the strength of evidence against the null hypothesis."
   ]
  },
  {
   "cell_type": "markdown",
   "id": "97561a2d-94d7-43f8-bb59-ded7f31ca19f",
   "metadata": {
    "jp-MarkdownHeadingCollapsed": true,
    "tags": []
   },
   "source": [
    "# Q9. Generate a Student's t-distribution plot using Python's matplotlib library, with the degrees of freedom parameter set to 10."
   ]
  },
  {
   "cell_type": "code",
   "execution_count": 1,
   "id": "7f49e96d-f926-4b91-a9e7-215e79a27f76",
   "metadata": {},
   "outputs": [
    {
     "data": {
      "image/png": "[encoded data removed]",
      "text/plain": [
       "<Figure size 640x480 with 1 Axes>"
      ]
     },
     "metadata": {},
     "output_type": "display_data"
    }
   ],
   "source": [
    "import numpy as np\n",
    "import matplotlib.pyplot as plt\n",
    "from scipy.stats import t\n",
    "\n",
    "\n",
    "df = 10\n",
    "x = np.linspace(-5,5)\n",
    "pdf = t.pdf(x,df)\n",
    "\n",
    "plt.plot(x,pdf,label = f\"T-Distibution (df={df})\")\n",
    "plt.xlabel('x')\n",
    "plt.ylabel('Probability Density')\n",
    "plt.legend()\n",
    "plt.title('Student\\'s t-distibution')\n",
    "plt.grid(True)\n",
    "plt.show()"
   ]
  },
  {
   "cell_type": "markdown",
   "id": "ee153b75-fa9a-4639-935d-7e77621052b0",
   "metadata": {
    "jp-MarkdownHeadingCollapsed": true,
    "tags": []
   },
   "source": [
    "# Q10. Write a Python program to calculate the two-sample t-test for independent samples, given two random samples of equal size and a null hypothesis that the population means are equal."
   ]
  },
  {
   "cell_type": "code",
   "execution_count": 2,
   "id": "deefbe7d-7839-4e0d-b352-68711a239854",
   "metadata": {},
   "outputs": [],
   "source": [
    "import numpy as np\n",
    "from scipy.stats import ttest_ind"
   ]
  },
  {
   "cell_type": "code",
   "execution_count": 6,
   "id": "1fe389aa-5a66-48d7-9bb3-86f49ea162f1",
   "metadata": {},
   "outputs": [
    {
     "name": "stdout",
     "output_type": "stream",
     "text": [
      "Reject the null hypothesis\n",
      "P-value 0.08861083778816052\n",
      "alpha 0.5\n"
     ]
    }
   ],
   "source": [
    "sample_1 = np.random.randint(0,30,10)\n",
    "sample_2 = np.random.randint(0,30,10)\n",
    "\n",
    "\n",
    "t_stat , p_value = ttest_ind(sample_1,sample_2)\n",
    "Alpha = 0.5\n",
    "\n",
    "if p_value < Alpha:\n",
    "    print(\"Reject the null hypothesis\")\n",
    "else:\n",
    "    print(\"Fail to reject the null hypothesis\")\n",
    "    \n",
    "print(\"P-value\",p_value)\n",
    "print(\"alpha\" , Alpha)"
   ]
  },
  {
   "cell_type": "markdown",
   "id": "93e41893-8f41-4774-8595-e99311ce0154",
   "metadata": {
    "jp-MarkdownHeadingCollapsed": true,
    "tags": []
   },
   "source": [
    "# Q11: What is Student’s t distribution? When to use the t-Distribution."
   ]
  },
  {
   "cell_type": "markdown",
   "id": "470f8097-5400-4ed6-aa1f-ba0b84c66bff",
   "metadata": {},
   "source": [
    "Student's t-distribution, also known as the t-distribution, is a probability distribution that is used in statistical inference when the sample size is small and the population standard deviation is unknown. It is widely used when conducting hypothesis tests and constructing confidence intervals for the mean of a normally distributed population.\n",
    "\n",
    "Characteristics of the t-distribution:\n",
    "\n",
    "1. Shape:\n",
    "The t-distribution is similar to the standard normal (z) distribution in shape, but it has heavier tails. As the sample size increases, the t-distribution approaches the standard normal distribution.\n",
    "\n",
    "2. Parameters:\n",
    "The t-distribution is parameterized by its degrees of freedom (df). The degrees of freedom depend on the sample size (n) and determine the shape of the t-distribution. For a sample size of n, the degrees of freedom are (n - 1).\n",
    "\n",
    "When to use the t-distribution:\n",
    "\n",
    "The t-distribution is used under the following circumstances:\n",
    "\n",
    "1. Small Sample Size:\n",
    "When the sample size is small (typically n < 30) and the population standard deviation is unknown, the t-distribution should be used instead of the standard normal distribution (z-distribution). For larger sample sizes (n ≥ 30), the t-distribution becomes very similar to the standard normal distribution, and both can be used interchangeably.\n",
    "\n",
    "2. Unknown Population Standard Deviation:\n",
    "If the population standard deviation is unknown, but the data is assumed to be approximately normally distributed, the t-distribution is more appropriate for hypothesis testing and confidence interval estimation. When the population standard deviation is known, the z-distribution should be used instead.\n",
    "\n",
    "3. Comparing Sample Means:\n",
    "The t-distribution is commonly used when comparing two sample means (e.g., in a t-test for independent samples or paired samples) to determine if there is a significant difference between the two population means.\n",
    "\n",
    "4. Constructing Confidence Intervals:\n",
    "When estimating the population mean with a confidence interval based on a small sample and unknown population standard deviation, the t-distribution should be used to account for the uncertainty due to the smaller sample size.\n",
    "\n",
    "5. Outliers and Skewed Data:\n",
    "The t-distribution is relatively robust against outliers and moderately skewed data compared to the normal distribution. It can provide more accurate results in these situations.\n",
    "\n",
    "In summary, the t-distribution is a crucial tool in statistical inference when dealing with small sample sizes and unknown population standard deviations. It provides a more appropriate model when the sample size is limited and helps in making valid inferences about population parameters, particularly the population mean."
   ]
  },
  {
   "cell_type": "markdown",
   "id": "515d8a06-c510-4e0e-9dc6-65c9fbe1f227",
   "metadata": {
    "jp-MarkdownHeadingCollapsed": true,
    "tags": []
   },
   "source": [
    "# Q12: What is t-statistic? State the formula for t-statistic."
   ]
  },
  {
   "cell_type": "markdown",
   "id": "239da1be-e77b-40a2-bad7-91c2aef7e211",
   "metadata": {},
   "source": [
    "The t-statistic is a measure used in hypothesis testing to assess the difference between a sample mean and a hypothesized population mean when the population standard deviation is unknown and estimated from the sample. It is the core component in conducting t-tests and calculating confidence intervals for the population mean based on sample data.\n",
    "\n",
    "The formula for the t-statistic depends on the type of t-test being performed:\n",
    "\n",
    "1. One-Sample t-test:\n",
    "In a one-sample t-test, we compare the mean of a single sample to a known or hypothesized value (population mean). The formula for the t-statistic in a one-sample t-test is:\n",
    "\n",
    "t = (x̄ - μ) / (s / √n)\n",
    "\n",
    "where:\n",
    "t = t-statistic\n",
    "x̄ = sample mean\n",
    "μ = hypothesized population mean (null hypothesis)\n",
    "s = sample standard deviation\n",
    "n = sample size\n",
    "\n",
    "2. Independent Two-Sample t-test:\n",
    "In an independent two-sample t-test, we compare the means of two independent samples to determine if they come from populations with the same mean. The formula for the t-statistic in an independent two-sample t-test is:\n",
    "\n",
    "t = (x̄1 - x̄2) / √((s1^2 / n1) + (s2^2 / n2))\n",
    "\n",
    "where:\n",
    "t = t-statistic\n",
    "x̄1 = mean of the first sample\n",
    "x̄2 = mean of the second sample\n",
    "s1 = standard deviation of the first sample\n",
    "s2 = standard deviation of the second sample\n",
    "n1 = size of the first sample\n",
    "n2 = size of the second sample\n",
    "\n",
    "3. Paired Two-Sample t-test:\n",
    "In a paired two-sample t-test, we compare the means of two related samples (e.g., before and after measurements on the same subjects). The formula for the t-statistic in a paired two-sample t-test is:\n",
    "\n",
    "t = (x̄d - μd) / (sd / √n)\n",
    "\n",
    "where:\n",
    "t = t-statistic\n",
    "x̄d = mean of the differences between paired observations\n",
    "μd = hypothesized population mean of the differences (null hypothesis)\n",
    "sd = standard deviation of the differences\n",
    "n = number of pairs\n",
    "\n",
    "In each formula, the t-statistic measures how many standard errors the sample mean is away from the hypothesized population mean. The larger the absolute value of the t-statistic, the stronger the evidence against the null hypothesis, and the more significant the difference or effect being tested. The t-statistic is then used to calculate the p-value, which determines the statistical significance of the test result."
   ]
  },
  {
   "cell_type": "markdown",
   "id": "0a3dfbc9-e75c-450c-b722-bdbc553dd53a",
   "metadata": {
    "tags": []
   },
   "source": [
    "# Q13. A coffee shop owner wants to estimate the average daily revenue for their shop. They take a random sample of 50 days and find the sample mean revenue to be $500 with a standard deviation of $50. Estimate the population mean revenue with a 95% confidence interval."
   ]
  },
  {
   "cell_type": "code",
   "execution_count": 2,
   "id": "94b06d04-9b6d-4a97-9e44-00410b121358",
   "metadata": {},
   "outputs": [
    {
     "name": "stdout",
     "output_type": "stream",
     "text": [
      "Average Daily Revenue : (499.55431921576684, 500.44568078423316)\n"
     ]
    }
   ],
   "source": [
    "import scipy.stats as stat\n",
    "import numpy as np\n",
    "\n",
    "n = 50\n",
    "mean = 500\n",
    "std = 50\n",
    "alpha = 0.05\n",
    "df = n - 1\n",
    "\n",
    "t_stat = stat.t.ppf(1 - 0.9500 / 2 , df)                                                       \n",
    "confidence_interval = (mean - t_stat * 50 / np.sqrt(n) , mean + t_stat * 50 / np.sqrt(n))      # (x̄ ± z * s / √n)\n",
    "print(f\"Average Daily Revenue : {confidence_interval}\")"
   ]
  },
  {
   "cell_type": "markdown",
   "id": "5ca558f6-e67f-4c00-bff8-faa47c46eade",
   "metadata": {
    "tags": []
   },
   "source": [
    "# Q14. A researcher hypothesizes that a new drug will decrease blood pressure by 10 mmHg. They conduct a clinical trial with 100 patients and find that the sample mean decrease in blood pressure is 8 mmHg with a standard deviation of 3 mmHg. Test the hypothesis with a significance level of 0.05."
   ]
  },
  {
   "cell_type": "code",
   "execution_count": 3,
   "id": "9dca862b-d6cf-48e0-a445-fcf281b8e177",
   "metadata": {},
   "outputs": [
    {
     "name": "stdout",
     "output_type": "stream",
     "text": [
      "Reject the null hypothesis... The new drug has a significant effect on blood pressure\n"
     ]
    }
   ],
   "source": [
    "import numpy as np\n",
    "import scipy.stats as stats\n",
    "\n",
    "n = 100\n",
    "sample_mean = 8\n",
    "sample_std = 3\n",
    "hypothesis_mean = 10\n",
    "significance_level = 0.05\n",
    "df = n - 1\n",
    "\n",
    "t_statistic = (sample_mean - hypothesis_mean) / (sample_std / np.sqrt(100))\n",
    "p_value = 2 * (stat.t.cdf(t_statistic , df))         # why we multiply by 2..because it is two-tailed\n",
    "\n",
    "if p_value < significance_level:\n",
    "    print(\"Reject the null hypothesis... The new drug has a significant effect on blood pressure\")\n",
    "else:\n",
    "    print(\"Fail to reject the null hypothesis...There is no significant evidance that the new drug has an affect on blood pressure\")"
   ]
  },
  {
   "cell_type": "markdown",
   "id": "c22ce3a0-b0e8-42ac-b607-8b71536e2856",
   "metadata": {
    "tags": []
   },
   "source": [
    "# Q15. An electronics company produces a certain type of product with a mean weight of 5 pounds and a standard deviation of 0.5 pounds. A random sample of 25 products is taken, and the sample mean weight is found to be 4.8 pounds. Test the hypothesis that the true mean weight of the products is less than 5 pounds with a significance level of 0.01."
   ]
  },
  {
   "cell_type": "code",
   "execution_count": 8,
   "id": "4dde8cf8-1dce-4314-8dcb-f0a9ff692f6f",
   "metadata": {},
   "outputs": [
    {
     "name": "stdout",
     "output_type": "stream",
     "text": [
      "t-statistics :  -6.666666666666667\n",
      "p-value :  -2.4921594731575762\n",
      "Reject the null hypothesis. There is enough evidence to suggest that the true mean weight is less than 5 pounds.\n"
     ]
    }
   ],
   "source": [
    "import numpy as np\n",
    "import scipy.stats as stats\n",
    "\n",
    "null_hypothesis = \"The true mean weight of the products is 5 pounds\"\n",
    "alternate_hypothesis = \"The true mean wight of the products is less than 5 pouds\"\n",
    "\n",
    "h_mean = 5\n",
    "s_mean = 4.8\n",
    "n = 25\n",
    "std = 0.5\n",
    "s_level = 0.01\n",
    "df = n - 1\n",
    "\n",
    "t_statistics = (s_mean - h_mean) / (std / np.sqrt(n))\n",
    "p_value = stat.t.ppf(s_level , df)\n",
    "\n",
    "print(\"t-statistics : \",t_statistic)\n",
    "print(\"p-value : \",p_value)\n",
    "if p_value < s_level:\n",
    "    print(\"Reject the null hypothesis. There is enough evidence to suggest that the true mean weight is less than 5 pounds.\")\n",
    "else:\n",
    "    print(\"Fail to reject the null hypothesis. There is not enough evidence to suggest that the true mean weight is less than 5 pounds.\")"
   ]
  },
  {
   "cell_type": "markdown",
   "id": "0a07ab9a-1a54-47f9-98d0-b0250ff838c4",
   "metadata": {
    "jp-MarkdownHeadingCollapsed": true,
    "tags": []
   },
   "source": [
    "# Q16. Two groups of students are given different study materials to prepare for a test. The first group (n1 = 30) has a mean score of 80 with a standard deviation of 10, and the second group (n2 = 40) has a mean score of 75 with a standard deviation of 8. Test the hypothesis that the population means for the two groups are equal with a significance level of 0.01."
   ]
  },
  {
   "cell_type": "code",
   "execution_count": 9,
   "id": "ae18ea16-595c-45d8-8cd8-db5c093d9aeb",
   "metadata": {},
   "outputs": [
    {
     "name": "stdout",
     "output_type": "stream",
     "text": [
      "t-statistics:  -6.666666666666667\n",
      "P-value:  0.9499284930477759\n",
      "Fail to reject null hypothesis...\n"
     ]
    }
   ],
   "source": [
    "import numpy as np\n",
    "import scipy.stats as stats\n",
    "\n",
    "\n",
    "n1 = 30\n",
    "n2 = 40\n",
    "mean1 = 80\n",
    "mean2 = 75\n",
    "std1 = 10\n",
    "std2 = 8\n",
    "significance_level = 0.01\n",
    "df = n1 + n2 - 2\n",
    "\n",
    "t_statistics = (mean1 - mean2) / (std1 / np.sqrt(n1)) + (std2 / np.sqrt(n2))\n",
    "p_value = stats.t.sf(abs(t_stat) , df) * 2\n",
    "\n",
    "print(\"t-statistics: \",t_statistic)\n",
    "print(\"P-value: \",p_value)\n",
    "\n",
    "\n",
    "if p_value < significance_level:\n",
    "    print(\"Reject the null hypothesis...The population means of the two groups are aqual\")\n",
    "else:\n",
    "    print(\"Fail to reject null hypothesis...\")"
   ]
  },
  {
   "cell_type": "markdown",
   "id": "7542ebd1-3779-45c9-aea2-5b399ec54a94",
   "metadata": {},
   "source": [
    "# Q17. A marketing company wants to estimate the average number of ads watched by viewers during a TV program. They take a random sample of 50 viewers and find that the sample mean is 4 with a standard deviation of 1.5. Estimate the population mean with a 99% confidence interval."
   ]
  },
  {
   "cell_type": "code",
   "execution_count": 3,
   "id": "bba68d75-5d63-4442-8bf1-6451ab9d6a86",
   "metadata": {},
   "outputs": [
    {
     "name": "stdout",
     "output_type": "stream",
     "text": [
      "Average number of ads watched by viewers during a television program:  (3.4898454186174037, 4.510154581382596)\n"
     ]
    }
   ],
   "source": [
    "import numpy as np\n",
    "import scipy.stats as stats\n",
    "\n",
    "n = 50\n",
    "sample_mean = 4\n",
    "sample_std = 1.5\n",
    "alpha = 0.01\n",
    "df = n - 1\n",
    "\n",
    "t_statistics = stats.t.ppf(alpha , df)\n",
    "c_i = (sample_mean + t_statistics * sample_std / np.sqrt(n) , sample_mean - t_statistics * sample_std / np.sqrt(n))\n",
    "\n",
    "print(\"Average number of ads watched by viewers during a television program: \",c_i)"
   ]
  },
  {
   "cell_type": "code",
   "execution_count": null,
   "id": "1a988c10-0594-4290-82c1-f8b88f3af940",
   "metadata": {},
   "outputs": [],
   "source": []
  }
 ],
 "metadata": {
  "kernelspec": {
   "display_name": "Python 3 (ipykernel)",
   "language": "python",
   "name": "python3"
  },
  "language_info": {
   "codemirror_mode": {
    "name": "ipython",
    "version": 3
   },
   "file_extension": ".py",
   "mimetype": "text/x-python",
   "name": "python",
   "nbconvert_exporter": "python",
   "pygments_lexer": "ipython3",
   "version": "3.10.8"
  }
 },
 "nbformat": 4,
 "nbformat_minor": 5
}
